{
 "cells": [
  {
   "cell_type": "code",
   "execution_count": 14,
   "metadata": {},
   "outputs": [],
   "source": [
    "import nltk\n",
    "import re"
   ]
  },
  {
   "cell_type": "code",
   "execution_count": 77,
   "metadata": {},
   "outputs": [],
   "source": [
    "def getSoundex(word):\n",
    "    final = []\n",
    "    word = word.lower().strip()\n",
    "    tok = list(word)\n",
    "    final.append(tok[0].upper())\n",
    "    new_word = ''.join(tok[1:])\n",
    "    new_word = re.sub(\"[aeiouhwy]+\",\"0\",new_word)\n",
    "    new_word = re.sub(\"[bfpv]+\",\"1\",new_word)\n",
    "    new_word = re.sub(\"[cgjkqsxz]+\",\"2\",new_word)\n",
    "    new_word = re.sub(\"[dt]+\",\"3\",new_word)\n",
    "    new_word = re.sub(\"[l]+\",\"4\",new_word)\n",
    "    new_word = re.sub(\"[mn]+\",\"5\",new_word)\n",
    "    new_word = re.sub(\"[r]+\",\"6\",new_word)\n",
    "    new_word = removeDupWord(new_word)\n",
    "    new_word = re.sub(\"[0]+\",\"\",new_word)\n",
    "    final= final + list(new_word)\n",
    "    if (len(final) < 4):\n",
    "        while (len(final) < 4):\n",
    "            final.append('0')\n",
    "    return ''.join(final)"
   ]
  },
  {
   "cell_type": "code",
   "execution_count": 78,
   "metadata": {},
   "outputs": [],
   "source": [
    "def removeDup(string, last_removed):\n",
    "    if (len(string)==0 or len(string)==1):\n",
    "        return string\n",
    "    if string[0] == string[1]: \n",
    "        last_removed = ord(string[0]) \n",
    "        while len(string) > 1 and string[0] == string[1]: \n",
    "            string = string[1:] \n",
    "        string = string[1:] \n",
    "        return removeDup(string, last_removed) \n",
    "    rem_str = removeDup(string[1:], last_removed) \n",
    "    if len(rem_str) != 0 and rem_str[0] == string[0]: \n",
    "        last_removed = ord(string[0]) \n",
    "        return (rem_str[1:]) \n",
    "    if len(rem_str) == 0 and last_removed == ord(string[0]): \n",
    "        return rem_str \n",
    "    return ([string[0]] + rem_str)\n",
    "def removeDupWord(word):\n",
    "    last_removed = 0\n",
    "    return ''.join(removeDup(list(word), last_removed)) "
   ]
  },
  {
   "cell_type": "code",
   "execution_count": 79,
   "metadata": {},
   "outputs": [
    {
     "data": {
      "text/plain": [
       "'C300'"
      ]
     },
     "execution_count": 79,
     "metadata": {},
     "output_type": "execute_result"
    }
   ],
   "source": [
    "getSoundex(\"Cat\")"
   ]
  },
  {
   "cell_type": "code",
   "execution_count": 80,
   "metadata": {},
   "outputs": [
    {
     "data": {
      "text/plain": [
       "'H655'"
      ]
     },
     "execution_count": 80,
     "metadata": {},
     "output_type": "execute_result"
    }
   ],
   "source": [
    "getSoundex(\"Hermann\")"
   ]
  },
  {
   "cell_type": "code",
   "execution_count": 123,
   "metadata": {},
   "outputs": [],
   "source": [
    "def levenshteinDistance(word1, word2):\n",
    "    m = [[0 for x in range(len(word1))] for y in range(len(word2))] \n",
    "    for i in range(len(word1)):\n",
    "        m[i][0] = i\n",
    "    for j in range(len(word2)):\n",
    "        m[0][j] = j\n",
    "    for i in range(1,len(word1)):\n",
    "        for j in range(1,len(word2)):\n",
    "            if (word1[i] == word2[j]):\n",
    "                m[i][j] = min((m[i-1][j]+1),(m[i][j-1]+1),(m[i-1][j-1]))\n",
    "            else:\n",
    "                m[i][j] = min((m[i-1][j]+1),(m[i][j-1]+1),(m[i-1][j-1]+1))\n",
    "    return m[len(word1)][len(word2)]"
   ]
  },
  {
   "cell_type": "code",
   "execution_count": 124,
   "metadata": {},
   "outputs": [
    {
     "ename": "IndexError",
     "evalue": "list index out of range",
     "output_type": "error",
     "traceback": [
      "\u001b[0;31m---------------------------------------------------------------------------\u001b[0m",
      "\u001b[0;31mIndexError\u001b[0m                                Traceback (most recent call last)",
      "\u001b[0;32m<ipython-input-124-9742f655ce0c>\u001b[0m in \u001b[0;36m<module>\u001b[0;34m()\u001b[0m\n\u001b[0;32m----> 1\u001b[0;31m \u001b[0mlevenshteinDistance\u001b[0m\u001b[0;34m(\u001b[0m\u001b[0;34m'cats'\u001b[0m\u001b[0;34m,\u001b[0m\u001b[0;34m'fast'\u001b[0m\u001b[0;34m)\u001b[0m\u001b[0;34m\u001b[0m\u001b[0m\n\u001b[0m",
      "\u001b[0;32m<ipython-input-123-52f6b5b18e63>\u001b[0m in \u001b[0;36mlevenshteinDistance\u001b[0;34m(word1, word2)\u001b[0m\n\u001b[1;32m     11\u001b[0m             \u001b[0;32melse\u001b[0m\u001b[0;34m:\u001b[0m\u001b[0;34m\u001b[0m\u001b[0m\n\u001b[1;32m     12\u001b[0m                 \u001b[0mm\u001b[0m\u001b[0;34m[\u001b[0m\u001b[0mi\u001b[0m\u001b[0;34m]\u001b[0m\u001b[0;34m[\u001b[0m\u001b[0mj\u001b[0m\u001b[0;34m]\u001b[0m \u001b[0;34m=\u001b[0m \u001b[0mmin\u001b[0m\u001b[0;34m(\u001b[0m\u001b[0;34m(\u001b[0m\u001b[0mm\u001b[0m\u001b[0;34m[\u001b[0m\u001b[0mi\u001b[0m\u001b[0;34m-\u001b[0m\u001b[0;36m1\u001b[0m\u001b[0;34m]\u001b[0m\u001b[0;34m[\u001b[0m\u001b[0mj\u001b[0m\u001b[0;34m]\u001b[0m\u001b[0;34m+\u001b[0m\u001b[0;36m1\u001b[0m\u001b[0;34m)\u001b[0m\u001b[0;34m,\u001b[0m\u001b[0;34m(\u001b[0m\u001b[0mm\u001b[0m\u001b[0;34m[\u001b[0m\u001b[0mi\u001b[0m\u001b[0;34m]\u001b[0m\u001b[0;34m[\u001b[0m\u001b[0mj\u001b[0m\u001b[0;34m-\u001b[0m\u001b[0;36m1\u001b[0m\u001b[0;34m]\u001b[0m\u001b[0;34m+\u001b[0m\u001b[0;36m1\u001b[0m\u001b[0;34m)\u001b[0m\u001b[0;34m,\u001b[0m\u001b[0;34m(\u001b[0m\u001b[0mm\u001b[0m\u001b[0;34m[\u001b[0m\u001b[0mi\u001b[0m\u001b[0;34m-\u001b[0m\u001b[0;36m1\u001b[0m\u001b[0;34m]\u001b[0m\u001b[0;34m[\u001b[0m\u001b[0mj\u001b[0m\u001b[0;34m-\u001b[0m\u001b[0;36m1\u001b[0m\u001b[0;34m]\u001b[0m\u001b[0;34m+\u001b[0m\u001b[0;36m1\u001b[0m\u001b[0;34m)\u001b[0m\u001b[0;34m)\u001b[0m\u001b[0;34m\u001b[0m\u001b[0m\n\u001b[0;32m---> 13\u001b[0;31m     \u001b[0;32mreturn\u001b[0m \u001b[0mm\u001b[0m\u001b[0;34m[\u001b[0m\u001b[0mlen\u001b[0m\u001b[0;34m(\u001b[0m\u001b[0mword1\u001b[0m\u001b[0;34m)\u001b[0m\u001b[0;34m]\u001b[0m\u001b[0;34m[\u001b[0m\u001b[0mlen\u001b[0m\u001b[0;34m(\u001b[0m\u001b[0mword2\u001b[0m\u001b[0;34m)\u001b[0m\u001b[0;34m]\u001b[0m\u001b[0;34m\u001b[0m\u001b[0m\n\u001b[0m",
      "\u001b[0;31mIndexError\u001b[0m: list index out of range"
     ]
    }
   ],
   "source": [
    "levenshteinDistance('cats','fast')"
   ]
  },
  {
   "cell_type": "code",
   "execution_count": null,
   "metadata": {},
   "outputs": [],
   "source": []
  },
  {
   "cell_type": "code",
   "execution_count": null,
   "metadata": {},
   "outputs": [],
   "source": []
  }
 ],
 "metadata": {
  "kernelspec": {
   "display_name": "Python 3",
   "language": "python",
   "name": "python3"
  },
  "language_info": {
   "codemirror_mode": {
    "name": "ipython",
    "version": 3
   },
   "file_extension": ".py",
   "mimetype": "text/x-python",
   "name": "python",
   "nbconvert_exporter": "python",
   "pygments_lexer": "ipython3",
   "version": "3.6.4"
  }
 },
 "nbformat": 4,
 "nbformat_minor": 2
}
