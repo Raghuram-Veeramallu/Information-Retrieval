{
 "cells": [
  {
   "cell_type": "code",
   "execution_count": 12,
   "metadata": {},
   "outputs": [],
   "source": [
    "import sys\n",
    "import pickle\n",
    "import os.path\n",
    "from nltk.stem import PorterStemmer as ps"
   ]
  },
  {
   "cell_type": "code",
   "execution_count": 13,
   "metadata": {},
   "outputs": [],
   "source": [
    "def isint(s):\n",
    "    try: int(s)\n",
    "    except ValueError: return False\n",
    "    return True"
   ]
  },
  {
   "cell_type": "code",
   "execution_count": 14,
   "metadata": {},
   "outputs": [],
   "source": [
    "def getInputFiles(filelist):\n",
    "    with open(filelist) as f:\n",
    "        return [a for a in f.read().split(\"\\n\") if a != \"\"]\n",
    "files = getInputFiles(\"input-files.txt\")"
   ]
  },
  {
   "cell_type": "code",
   "execution_count": 15,
   "metadata": {},
   "outputs": [],
   "source": [
    "def preprocess(data):\n",
    "    for p in \"!.,:@#$%^&?<>*()[}{]-=;/\\\"\\\\\\t\\n\":\n",
    "        if p in '\\n;?:!.,.':\n",
    "            data = data.replace(p,' ')\n",
    "        else: data = data.replace(p,'')\n",
    "    return data.lower()"
   ]
  },
  {
   "cell_type": "code",
   "execution_count": 16,
   "metadata": {},
   "outputs": [],
   "source": [
    "def createPositionalIndex(files):\n",
    "    index = {}\n",
    "    for i in range(len(files)):\n",
    "        with open(files[i]) as f:\n",
    "            doc = [a for a in preprocess(f.read()).split(' ') if a != \"\"]\n",
    "        for idx, word in enumerate(doc):\n",
    "            stemmed = ps().stem(word)\n",
    "            if not stemmed in index:\n",
    "                index[stemmed] = [(i,idx)]\n",
    "            else: index[stemmed].append((i,idx))\n",
    "    return index"
   ]
  },
  {
   "cell_type": "code",
   "execution_count": 17,
   "metadata": {},
   "outputs": [],
   "source": [
    "def showPreview(positions,radius):\n",
    "    for i, (doc_id, word_index) in enumerate(positions):\n",
    "        docArr = getInputFiles(\"input-files.txt\")\n",
    "        with open(docArr[doc_id]) as f:\n",
    "            wordArr = [a for a in preprocess(f.read()).split(' ') if a != \"\"]\n",
    "            result = \" \".join(wordArr[word_index-radius:word_index+radius])\n",
    "            print(str(i+1), end=\",\")\n",
    "    print()"
   ]
  },
  {
   "cell_type": "code",
   "execution_count": 18,
   "metadata": {},
   "outputs": [],
   "source": [
    "pi = {}\n",
    "if os.path.isfile(\"index_data\"):\n",
    "    with open(\"index_data\",\"rb\") as f:\n",
    "        pi = pickle.load(f)\n",
    "else:\n",
    "    pi = createPositionalIndex(files)\n",
    "    with open(\"index_data\",\"wb\") as f:\n",
    "        pickle.dump(pi,f)"
   ]
  },
  {
   "cell_type": "code",
   "execution_count": null,
   "metadata": {},
   "outputs": [
    {
     "name": "stdout",
     "output_type": "stream",
     "text": [
      "handsome clever\n",
      "Searching... \n",
      "\n",
      "1,\n",
      "handsome rich 1\n",
      "Searching... \n",
      "\n",
      "1,\n",
      "Taylor woodhouse 5\n",
      "Searching... \n",
      "\n",
      "\n",
      "taylor woodhouse 2\n",
      "Searching... \n",
      "\n",
      "\n",
      "taylor woodhouse 1\n",
      "Searching... \n",
      "\n",
      "\n",
      "taylor woodhouse 3\n",
      "Searching... \n",
      "\n",
      "\n",
      "taylor woodhouse 4\n",
      "Searching... \n",
      "\n",
      "\n",
      "Taylor woodhouse's 2\n",
      "Searching... \n",
      "\n",
      "\n",
      "Taylor woodhouse's 1\n",
      "Searching... \n",
      "\n",
      "\n",
      "Taylor woodhouse's 3\n",
      "Searching... \n",
      "\n",
      "\n",
      "Taylor woodhouse's 4\n",
      "Searching... \n",
      "\n",
      "1,2,\n",
      "situation rather 5\n",
      "Searching... \n",
      "\n",
      "1,\n"
     ]
    }
   ],
   "source": [
    "while True:\n",
    "    q = [a for a in input().lower().split(' ') if a != \"\"]\n",
    "    matches = []\n",
    "    if len(q) == 1 and q[0] == '/exit':\n",
    "        exit()\n",
    "    elif len(q) == 2:\n",
    "        word1, word2 = q\n",
    "        word1 = ps().stem(preprocess(word1).replace(' ',''))\n",
    "        word2 = ps().stem(preprocess(word2).replace(' ',''))\n",
    "        print(\"Searching... \\n\")\n",
    "        for doc1, index1 in pi[word1]:\n",
    "            for doc2, index2 in pi[word2]:\n",
    "                if doc1 != doc2: continue\n",
    "                if index1 == (index2 - 1): matches.append( (doc1,index1) )\n",
    "        showPreview(matches,5)\n",
    "    elif len(q) == 3:\n",
    "        word1, word2, l = q\n",
    "        if not isint(l):\n",
    "            print(\"arg 3 needs to be an int\\n\")\n",
    "            continue\n",
    "        word1 = ps().stem(preprocess(word1).replace(' ',''))\n",
    "        word2 = ps().stem(preprocess(word2).replace(' ',''))\n",
    "        print(\"Searching... \\n\")\n",
    "        rad = int(l)\n",
    "        for doc1, index1 in pi[word1]:\n",
    "            for doc2, index2 in pi[word2]:\n",
    "                if doc1 != doc2: continue\n",
    "                abs_pos = abs(index1 - index2)\n",
    "                # when abs_pos is 0, the word is itself\n",
    "                if abs_pos <= rad and abs_pos != 0: matches.append( (doc1,index1) )\n",
    "        showPreview(matches, 5 if rad <= 5 else rad)\n",
    "    else: print(\"Needs to have 2 or 3 args\\n\")"
   ]
  },
  {
   "cell_type": "code",
   "execution_count": null,
   "metadata": {},
   "outputs": [],
   "source": []
  }
 ],
 "metadata": {
  "kernelspec": {
   "display_name": "Python 3",
   "language": "python",
   "name": "python3"
  },
  "language_info": {
   "codemirror_mode": {
    "name": "ipython",
    "version": 3
   },
   "file_extension": ".py",
   "mimetype": "text/x-python",
   "name": "python",
   "nbconvert_exporter": "python",
   "pygments_lexer": "ipython3",
   "version": "3.6.4"
  }
 },
 "nbformat": 4,
 "nbformat_minor": 2
}
